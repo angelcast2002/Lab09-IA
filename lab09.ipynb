{
 "cells": [
  {
   "cell_type": "markdown",
   "metadata": {},
   "source": [
    "# Task 01 - Teoría"
   ]
  },
  {
   "cell_type": "markdown",
   "metadata": {},
   "source": [
    "### Diga cual es la diferencia entre Modelos de Markov y Hidden Markov Models"
   ]
  },
  {
   "cell_type": "markdown",
   "metadata": {},
   "source": [
    "### Investigue qué son los factorial HMM (Hidden Markov Models)"
   ]
  },
  {
   "cell_type": "markdown",
   "metadata": {},
   "source": [
    "### Especifique en sus propias palabras el algoritmo Forward Backward para HMM"
   ]
  },
  {
   "cell_type": "markdown",
   "metadata": {},
   "source": [
    "### En el algoritmo de Forward Backward, por qué es necesario el paso de Backward (puede escribir ejemplos o casos para responder esta pregunta)"
   ]
  },
  {
   "cell_type": "markdown",
   "metadata": {},
   "source": [
    "# Task 02 - Algoritmo Forward Backward en HMM"
   ]
  },
  {
   "cell_type": "markdown",
   "metadata": {},
   "source": [
    "## Parámetros iniciales"
   ]
  },
  {
   "cell_type": "code",
   "execution_count": 1,
   "metadata": {},
   "outputs": [],
   "source": [
    "# Uso y datos\n",
    "states = ['Sunny', 'Rainy']\n",
    "observations = ['Sunny', 'Sunny', 'Sunny']\n",
    "initial_prob = {'Sunny': 0.5, 'Rainy': 0.5}\n",
    "transition_prob = {'Sunny': {'Sunny': 0.8, 'Rainy': 0.2}, 'Rainy': {'Sunny': 0.4, 'Rainy': 0.6}}\n",
    "emission_prob = {'Sunny': {'Sunny': 0.8, 'Rainy': 0.2}, 'Rainy': {'Sunny': 0.3, 'Rainy': 0.7}}"
   ]
  },
  {
   "cell_type": "markdown",
   "metadata": {},
   "source": [
    "## Clase HMM"
   ]
  },
  {
   "cell_type": "code",
   "execution_count": 2,
   "metadata": {},
   "outputs": [],
   "source": [
    "class HMM:\n",
    "    def __init__(self, states, observations, initial_prob, transition_prob, emission_prob):\n",
    "        self.states = states\n",
    "        self.observations = observations\n",
    "        self.initial_prob = initial_prob\n",
    "        self.transition_prob = transition_prob\n",
    "        self.emission_prob = emission_prob\n",
    "        \n",
    "    def generate_sequence(self, length):\n",
    "        import random\n",
    "        sequence = []\n",
    "        state = random.choice(self.states)\n",
    "        sequence.append(state)\n",
    "        for i in range(length-1):\n",
    "            next_state = random.choices(self.states, weights=[self.transition_prob[state][s] for s in self.states])[0]\n",
    "            sequence.append(next_state)\n",
    "            state = next_state\n",
    "        return sequence\n",
    "    \n",
    "    def forward(self, observations):\n",
    "        alpha = []\n",
    "        for i in range(len(self.states)):\n",
    "            alpha.append([0]*len(observations))\n",
    "        for i in range(len(self.states)):\n",
    "            alpha[i][0] = self.initial_prob[self.states[i]] * self.emission_prob[self.states[i]][observations[0]]\n",
    "        for t in range(1, len(observations)):\n",
    "            for i in range(len(self.states)):\n",
    "                alpha[i][t] = self.emission_prob[self.states[i]][observations[t]] * sum(alpha[j][t-1] * self.transition_prob[self.states[j]][self.states[i]] for j in range(len(self.states)))\n",
    "        return alpha\n",
    "    \n",
    "    def backward(self, observations):\n",
    "        beta = []\n",
    "        for i in range(len(self.states)):\n",
    "            beta.append([0]*len(observations))\n",
    "        for i in range(len(self.states)):\n",
    "            beta[i][-1] = 1\n",
    "        for t in range(len(observations)-2, -1, -1):\n",
    "            for i in range(len(self.states)):\n",
    "                beta[i][t] = sum(self.transition_prob[self.states[i]][self.states[j]] * self.emission_prob[self.states[j]][observations[t+1]] * beta[j][t+1] for j in range(len(self.states)))\n",
    "        return beta\n",
    "    \n",
    "    def compute_state_probabilities(self, observations):\n",
    "        alpha = self.forward(observations)\n",
    "        beta = self.backward(observations)\n",
    "        prob = []\n",
    "        for t in range(len(observations)):\n",
    "            prob_t = [0]*len(self.states)\n",
    "            for i in range(len(self.states)):\n",
    "                prob_t[i] = alpha[i][t] * beta[i][t]\n",
    "            prob.append(prob_t)\n",
    "        # Normalizar las probabilidades\n",
    "        prob = [[p/sum(p_t) for p in p_t] for p_t in prob]\n",
    "        return prob"
   ]
  },
  {
   "cell_type": "markdown",
   "metadata": {},
   "source": [
    "## Instancia de la clase HMM"
   ]
  },
  {
   "cell_type": "code",
   "execution_count": 3,
   "metadata": {},
   "outputs": [],
   "source": [
    "hmm = HMM(states, observations, initial_prob, transition_prob, emission_prob)"
   ]
  },
  {
   "cell_type": "markdown",
   "metadata": {},
   "source": [
    "## Secuencia de Observaciones"
   ]
  },
  {
   "cell_type": "code",
   "execution_count": 4,
   "metadata": {},
   "outputs": [
    {
     "name": "stdout",
     "output_type": "stream",
     "text": [
      "Secuencia generada:  ['Sunny', 'Rainy', 'Rainy', 'Sunny', 'Rainy']\n"
     ]
    }
   ],
   "source": [
    "obs_sequence = hmm.generate_sequence(5)\n",
    "print(\"Secuencia generada: \", obs_sequence)"
   ]
  },
  {
   "cell_type": "markdown",
   "metadata": {},
   "source": [
    "## Cálculo de probabilidades forward"
   ]
  },
  {
   "cell_type": "code",
   "execution_count": 5,
   "metadata": {},
   "outputs": [
    {
     "name": "stdout",
     "output_type": "stream",
     "text": [
      "Probabilidades forward:  [[0.4, 0.30400000000000005, 0.21088000000000007], [0.15, 0.051000000000000004, 0.027420000000000003]]\n"
     ]
    }
   ],
   "source": [
    "forward_prob = hmm.forward(observations)\n",
    "print(\"Probabilidades forward: \", forward_prob)"
   ]
  },
  {
   "cell_type": "markdown",
   "metadata": {},
   "source": [
    "## Cálculo de probabilidades backward"
   ]
  },
  {
   "cell_type": "code",
   "execution_count": 6,
   "metadata": {},
   "outputs": [
    {
     "name": "stdout",
     "output_type": "stream",
     "text": [
      "Probabilidades backward:  [[0.4780000000000002, 0.7000000000000002, 1], [0.31400000000000006, 0.5, 1]]\n"
     ]
    }
   ],
   "source": [
    "backward_prob = hmm.backward(observations)\n",
    "print(\"Probabilidades backward: \", backward_prob)"
   ]
  },
  {
   "cell_type": "markdown",
   "metadata": {},
   "source": [
    "## Calcular probabilidades del estado"
   ]
  },
  {
   "cell_type": "code",
   "execution_count": 7,
   "metadata": {},
   "outputs": [
    {
     "name": "stdout",
     "output_type": "stream",
     "text": [
      "Probabilidades de estados:  [[0.8023499790180445, 0.19765002098195547], [0.8929920268569032, 0.1070079731430969], [0.8849349559378934, 0.11506504406210658]]\n"
     ]
    }
   ],
   "source": [
    "state_prob = hmm.compute_state_probabilities(observations)\n",
    "print(\"Probabilidades de estados: \", state_prob)"
   ]
  }
 ],
 "metadata": {
  "kernelspec": {
   "display_name": "Python 3",
   "language": "python",
   "name": "python3"
  },
  "language_info": {
   "codemirror_mode": {
    "name": "ipython",
    "version": 3
   },
   "file_extension": ".py",
   "mimetype": "text/x-python",
   "name": "python",
   "nbconvert_exporter": "python",
   "pygments_lexer": "ipython3",
   "version": "3.11.6"
  }
 },
 "nbformat": 4,
 "nbformat_minor": 2
}
